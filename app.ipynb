{
 "cells": [
  {
   "cell_type": "code",
   "execution_count": 5,
   "id": "7ced8917",
   "metadata": {},
   "outputs": [],
   "source": [
    "from flask import Flask,render_template, Response\n",
    "import cv2"
   ]
  },
  {
   "cell_type": "code",
   "execution_count": null,
   "id": "1b8aedcb",
   "metadata": {},
   "outputs": [],
   "source": [
    "app= Flask(__name__)\n",
    "cam= cv2.VideoCapture(0)\n",
    "\n",
    "def genFrames():\n",
    "    while True:\n",
    "        success,frame=camera.read()\n",
    "        if not success:\n",
    "            break\n",
    "        else:\n",
    "            ret,buffer=cv2.imencode('.jpg',frame)\n",
    "            frame=buffer.tobytes()\n",
    "            yield (b'--frame\\r\\n'\n",
    "                   b'Content-Type: image/jpeg\\r\\n\\r\\n' + frame + b'\\r\\n')  # concat frame one by one and show result\n",
    "\n",
    "@app.route(\"/\")\n",
    "def index():\n",
    "    return render_template('index.html')\n",
    "\n",
    "@app.route('/video_feed')\n",
    "def video_feed():\n",
    "    return Response(genFrames(),mimetype='multipart/x-mixed-replace;boundary=frame')\n",
    "\n",
    "    \n",
    "if __name__=='__main__':\n",
    "    app.run(port=5000,debug=True)"
   ]
  }
 ],
 "metadata": {
  "kernelspec": {
   "display_name": "Python 3 (ipykernel)",
   "language": "python",
   "name": "python3"
  },
  "language_info": {
   "codemirror_mode": {
    "name": "ipython",
    "version": 3
   },
   "file_extension": ".py",
   "mimetype": "text/x-python",
   "name": "python",
   "nbconvert_exporter": "python",
   "pygments_lexer": "ipython3",
   "version": "3.10.4"
  }
 },
 "nbformat": 4,
 "nbformat_minor": 5
}
